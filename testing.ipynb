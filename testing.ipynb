{
 "cells": [
  {
   "cell_type": "code",
   "execution_count": 1,
   "metadata": {},
   "outputs": [],
   "source": [
    "from qiskit import Aer, transpile, assemble, execute\n",
    "from qiskit.visualization import plot_histogram\n",
    "from qiskit.circuit.library import QFT\n",
    "from qiskit import QuantumCircuit, QuantumRegister, ClassicalRegister\n",
    "import numpy as np\n"
   ]
  },
  {
   "cell_type": "markdown",
   "metadata": {},
   "source": [
    "To create a software implementation of the algorithm based on Hamiltonian simulation and phase estimation for eigendecomposition and then inverting the eigenvalues, here is a small example with a 4x4 matrix with a step-by-step breakdown.\n",
    "\n",
    "### Step 1: Problem Definition\n",
    "You want to solve a system of equations \\( A \\vec{x} = \\vec{b} \\), where \\( A \\) is a 4x4 matrix."
   ]
  },
  {
   "cell_type": "markdown",
   "metadata": {},
   "source": [
    "### Step 2: Hamiltonian Simulation and Phase Estimation\n",
    "\n",
    "Hamiltonian simulation is about evolving a quantum state according to a Hamiltonian \\( H \\), which is derived from the matrix \\( A \\). Since \\( A \\) is 4x4, we can represent it as a 2-qubit system. Our goal is to create a unitary \\( U \\) such that \\( U|0\\rangle = e^{iAt}|b\\rangle \\).\n"
   ]
  },
  {
   "cell_type": "code",
   "execution_count": 2,
   "metadata": {},
   "outputs": [],
   "source": [
    "def hamiltonian_simulation(qc, qubit, theta):\n",
    "    qc.rz(theta, qubit)\n"
   ]
  },
  {
   "cell_type": "markdown",
   "metadata": {},
   "source": [
    "The Quantum Phase Estimation (QPE) algorithm estimates the phase (or eigenvalues) of a unitary operator. After applying QPE on \\( U \\), the output will be an approximation to the eigenvalues of \\( A \\).\n"
   ]
  },
  {
   "cell_type": "code",
   "execution_count": 3,
   "metadata": {},
   "outputs": [],
   "source": [
    "def qpe(matrix):\n",
    "    # Number of qubits for the eigenvalue in the output\n",
    "    num_qubits = 4 \n",
    "    qr = QuantumRegister(num_qubits + 1, 'q')\n",
    "    cr = ClassicalRegister(num_qubits, 'c')\n",
    "    qc = QuantumCircuit(qr, cr)\n",
    "\n",
    "    # Prepare the eigenstate |1⟩. \n",
    "    qc.x(qr[0])\n",
    "\n",
    "    # Apply Hadamard to ancilla qubits\n",
    "    for qubit in range(1, num_qubits + 1):\n",
    "        qc.h(qubit)\n",
    "\n",
    "    # Controlled-Hamiltonian simulation\n",
    "    angle = np.pi / 4  \n",
    "    repetitions = 1\n",
    "    for counting_qubit in range(1, num_qubits + 1):\n",
    "        for _ in range(repetitions):\n",
    "            hamiltonian_simulation(qc, counting_qubit, angle)\n",
    "        repetitions *= 2\n",
    "\n",
    "    qc.append(QFT(num_qubits).inverse(), qr[1:num_qubits + 1])\n",
    "    qc.measure(qr[1:], cr)\n",
    "    \n",
    "    # Run the quantum circuit on a simulator backend\n",
    "    aer_sim = Aer.get_backend('aer_simulator')\n",
    "    # Transpile the circuit for the selected backend\n",
    "    t_qc = transpile(qc, aer_sim)\n",
    "    # Create a Qobj from the circuit for the simulator to run\n",
    "    qobj = assemble(t_qc)\n",
    "    # Run the simulator\n",
    "    result = aer_sim.run(qobj).result()\n",
    "    # Get the results\n",
    "    counts = result.get_counts(qc)\n",
    "    \n",
    "    return counts\n"
   ]
  },
  {
   "cell_type": "markdown",
   "metadata": {},
   "source": [
    "### Step 3: Inversion of the Eigenvalues\n",
    "\n",
    "Once we have the eigenvalues from the phase estimation, we can invert them. This is a classical computation step. If the eigenvalue is \\( \\lambda \\), its inverse will be \\( \\frac{1}{\\lambda} \\)."
   ]
  },
  {
   "cell_type": "code",
   "execution_count": 4,
   "metadata": {},
   "outputs": [],
   "source": [
    "def invert_eigenvalues(counts):\n",
    "    # Get the most common eigenvalue\n",
    "    most_common = sorted(counts.items(), key=lambda x: x[1], reverse=True)[0][0]\n",
    "    # Convert to fraction\n",
    "    eigenvalue = int(most_common, 2) / 2**len(most_common)\n",
    "    # Invert the eigenvalue\n",
    "    if eigenvalue != 0:\n",
    "        inverted_value = 1 / eigenvalue\n",
    "    else:\n",
    "        inverted_value = float('inf')  # Handling division by zero\n",
    "    return inverted_value\n"
   ]
  },
  {
   "cell_type": "markdown",
   "metadata": {},
   "source": [
    "### Step 4: Postselection\n",
    "\n",
    "Instead of amplitude amplification, we will use postselection. This means we will run our quantum algorithm many times and simply choose the output that gives us the desired accuracy. In a real-world scenario, amplitude amplification would be a more efficient choice, but postselection simplifies our implementation."
   ]
  },
  {
   "cell_type": "code",
   "execution_count": 5,
   "metadata": {},
   "outputs": [
    {
     "name": "stdout",
     "output_type": "stream",
     "text": [
      "Inverted Eigenvalue: 8.0\n"
     ]
    },
    {
     "name": "stderr",
     "output_type": "stream",
     "text": [
      "/var/folders/my/3k6ljkkn2fxf0bmxsr7jkrf00000gp/T/ipykernel_20537/1835944970.py:6: UserWarning: Matplotlib is currently using module://matplotlib_inline.backend_inline, which is a non-GUI backend, so cannot show the figure.\n",
      "  plot_histogram(counts).show()\n"
     ]
    }
   ],
   "source": [
    "if __name__ == \"__main__\":\n",
    "    matrix = [[1, 0], [0, 1]]  # Example identity matrix for simplicity\n",
    "    counts = qpe(matrix)\n",
    "    inverted_value = invert_eigenvalues(counts)\n",
    "    print(\"Inverted Eigenvalue:\", inverted_value)\n",
    "    plot_histogram(counts).show()\n"
   ]
  },
  {
   "cell_type": "code",
   "execution_count": 6,
   "metadata": {},
   "outputs": [],
   "source": [
    "plot_histogram(counts).savefig(\"histogram.png\")\n"
   ]
  }
 ],
 "metadata": {
  "kernelspec": {
   "display_name": "base",
   "language": "python",
   "name": "python3"
  },
  "language_info": {
   "codemirror_mode": {
    "name": "ipython",
    "version": 3
   },
   "file_extension": ".py",
   "mimetype": "text/x-python",
   "name": "python",
   "nbconvert_exporter": "python",
   "pygments_lexer": "ipython3",
   "version": "3.9.12"
  },
  "orig_nbformat": 4
 },
 "nbformat": 4,
 "nbformat_minor": 2
}
