{
 "cells": [
  {
   "cell_type": "code",
   "execution_count": 1,
   "metadata": {},
   "outputs": [],
   "source": [
    "import pandas as pd\n",
    "\n",
    "\n",
    "import matplotlib.pyplot as plt\n"
   ]
  },
  {
   "cell_type": "code",
   "execution_count": 2,
   "metadata": {},
   "outputs": [
    {
     "name": "stdout",
     "output_type": "stream",
     "text": [
      "              State       Count\n",
      "count  3.030000e+02  303.000000\n",
      "mean   5.536769e+05    4.257426\n",
      "std    5.082945e+05    3.770714\n",
      "min    0.000000e+00    1.000000\n",
      "25%    1.110000e+04    1.000000\n",
      "50%    1.000000e+06    1.000000\n",
      "75%    1.100000e+06    8.500000\n",
      "max    1.111111e+06   10.000000\n",
      "1111100    5\n",
      "1110       5\n",
      "110101     4\n",
      "1111000    4\n",
      "1001111    4\n",
      "          ..\n",
      "111111     1\n",
      "1000010    1\n",
      "1010000    1\n",
      "1010111    1\n",
      "1111101    1\n",
      "Name: State, Length: 128, dtype: int64\n"
     ]
    },
    {
     "data": {
      "image/png": "[encoded data removed]",
      "text/plain": [
       "<Figure size 432x288 with 1 Axes>"
      ]
     },
     "metadata": {
      "needs_background": "light"
     },
     "output_type": "display_data"
    }
   ],
   "source": [
    "results_df = pd.read_csv('results.csv')\n",
    "\n",
    "\n",
    "print(results_df.describe())\n",
    "\n",
    "# Frequency of each state\n",
    "state_counts = results_df['State'].value_counts()\n",
    "print(state_counts)\n",
    "\n",
    "# Visualize the data\n",
    "\n",
    "\n",
    "state_counts.plot(kind='bar')\n",
    "plt.xlabel('Quantum State')\n",
    "plt.ylabel('Counts')\n",
    "plt.title('Distribution of Quantum States')\n",
    "plt.show()\n"
   ]
  },
  {
   "cell_type": "code",
   "execution_count": 6,
   "metadata": {},
   "outputs": [
    {
     "name": "stdout",
     "output_type": "stream",
     "text": [
      "   State  Count\n",
      "0  10000      1\n",
      "1      0      9\n",
      "2      0      1\n",
      "3      1      8\n",
      "4   1001      1\n"
     ]
    }
   ],
   "source": [
    "df = pd.read_csv('results.csv')\n",
    "print(df.head())\n"
   ]
  },
  {
   "cell_type": "code",
   "execution_count": 8,
   "metadata": {},
   "outputs": [
    {
     "name": "stdout",
     "output_type": "stream",
     "text": [
      "   State  Count\n",
      "0  10000      1\n",
      "1      0      9\n",
      "2      0      1\n",
      "3      1      8\n",
      "4   1001      1\n",
      "              State       Count\n",
      "count  3.030000e+02  303.000000\n",
      "mean   5.536769e+05    4.257426\n",
      "std    5.082945e+05    3.770714\n",
      "min    0.000000e+00    1.000000\n",
      "25%    1.110000e+04    1.000000\n",
      "50%    1.000000e+06    1.000000\n",
      "75%    1.100000e+06    8.500000\n",
      "max    1.111111e+06   10.000000\n",
      "\n",
      "State Frequency:\n",
      "State\n",
      "100        14\n",
      "1111100    14\n",
      "110100     14\n",
      "1110       14\n",
      "10         13\n",
      "           ..\n",
      "1000111     7\n",
      "1110100     6\n",
      "1101011     6\n",
      "1011110     6\n",
      "10110       5\n",
      "Name: Count, Length: 128, dtype: int64\n",
      "\n",
      "Most Frequent States:\n",
      "State\n",
      "100        14\n",
      "1111100    14\n",
      "110100     14\n",
      "1110       14\n",
      "10         13\n",
      "Name: Count, dtype: int64\n"
     ]
    }
   ],
   "source": [
    "\n",
    "\n",
    "# Load the data\n",
    "df = pd.read_csv('results.csv')\n",
    "\n",
    "# Data Exploration\n",
    "print(df.head())  # Show the first few rows\n",
    "print(df.describe())  # Basic statistical summary\n",
    "\n",
    "# Frequency Analysis\n",
    "state_counts = df['Count'].groupby(df['State']).sum()  # Sum the counts for each state\n",
    "state_counts = state_counts.sort_values(ascending=False)  # Sort the states by frequency\n",
    "\n",
    "print(\"\\nState Frequency:\")\n",
    "print(state_counts)\n",
    "\n",
    "# Identify Most Frequent States\n",
    "print(\"\\nMost Frequent States:\")\n",
    "print(state_counts.head())\n",
    "\n",
    "# Pattern Recognition\n",
    "# Depending on your specific requirements, this could involve more complex analysis.\n",
    "# For instance, looking for sequences or correlations in the data.\n",
    "# This step would be tailored to your specific experiment and what you're trying to understand.\n"
   ]
  },
  {
   "cell_type": "code",
   "execution_count": null,
   "metadata": {},
   "outputs": [],
   "source": []
  }
 ],
 "metadata": {
  "kernelspec": {
   "display_name": "Python 3",
   "language": "python",
   "name": "python3"
  },
  "language_info": {
   "codemirror_mode": {
    "name": "ipython",
    "version": 3
   },
   "file_extension": ".py",
   "mimetype": "text/x-python",
   "name": "python",
   "nbconvert_exporter": "python",
   "pygments_lexer": "ipython3",
   "version": "3.9.12"
  }
 },
 "nbformat": 4,
 "nbformat_minor": 2
}
