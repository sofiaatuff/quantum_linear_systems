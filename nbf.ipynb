{
 "cells": [
  {
   "cell_type": "code",
   "execution_count": 4,
   "metadata": {},
   "outputs": [],
   "source": [
    "import nbformat as nbf\n",
    "\n",
    "# Lets create a new notebook to document the step by step detials of the algorithm\n",
    "nb = nbf.v4.new_notebook()\n",
    "\n",
    "# title\n",
    "nb.cells.append(nbf.v4.new_markdown_cell(\"# Using the HHL algorithm to solve linear systems of equation\"))\n",
    "\n",
    "# table of contents\n",
    "toc = \"\"\"\n",
    "## Contents\n",
    "1. [Introduction](#introduction)\n",
    "2. [Inquiry Overview](#inquiry-overview)\n",
    "3. [Description of the HHL](#description-of-the-hhl)\n",
    "4. [Initial Preparations](#initial-preparations)\n",
    "5. [Quantum Phase Estimation & Hamiltonian Simulation](#quantum-phase-estimation-&-hamiltonian-simulation)\n",
    "6. [Quantum Fourier Transform](#quantum-fourier-transform)\n",
    "7. [Qiskit Implementation](#qiskit-implementation)\n",
    "8. [References](#references)\n",
    "\"\"\"\n",
    "nb.cells.append(nbf.v4.new_markdown_cell(toc))\n",
    "\n",
    "\n",
    "# Adding sections and corresponding code cells\n",
    "sections = [\n",
    "    (\"Introduction\", \"#introduction\"),\n",
    "    (\"Inquiry Overview\", \"#inquiry-overview\"),\n",
    "    (\"Description of the HHL\", \"#description-of-the-hhl\"),\n",
    "    (\"Initial Preparations\",\"#initial-preparations\"),\n",
    "    (\"Quantum Phase Estimation & Hamiltonian Simulation\", \"#quantum-phase-estimation-&-hamiltonian-simulation\"),\n",
    "    (\"Quantum Fourier Transform\", \"#quantum-fourier-transform\"),\n",
    "    (\"Qiskit Implementation\", \"#qiskit-implementation\"),\n",
    "    (\"References\", \"#references\")\n",
    "]\n",
    "\n",
    "for title, anchor in sections:\n",
    "    # Create a new markdown cell for the section heading\n",
    "    heading_cell = nbf.v4.new_markdown_cell(f\"## {title}\\n\\n<a id='{anchor[1:]}'></a>\")\n",
    "    nb.cells.append(heading_cell)\n",
    "\n",
    "    # Create a new code cell placeholder for the section\n",
    "    code_cell = nbf.v4.new_code_cell(\"# Placeholder for \" + title)\n",
    "    nb.cells.append(code_cell)\n",
    "\n",
    "\n",
    "# Save the notebook\n",
    "with open('2HHL_qiskit.ipynb', 'w', encoding='utf-8') as f:\n",
    "    nbf.write(nb, f)\n"
   ]
  },
  {
   "cell_type": "code",
   "execution_count": null,
   "metadata": {},
   "outputs": [],
   "source": []
  }
 ],
 "metadata": {
  "kernelspec": {
   "display_name": "Python 3",
   "language": "python",
   "name": "python3"
  },
  "language_info": {
   "codemirror_mode": {
    "name": "ipython",
    "version": 3
   },
   "file_extension": ".py",
   "mimetype": "text/x-python",
   "name": "python",
   "nbconvert_exporter": "python",
   "pygments_lexer": "ipython3",
   "version": "3.9.12"
  }
 },
 "nbformat": 4,
 "nbformat_minor": 2
}
